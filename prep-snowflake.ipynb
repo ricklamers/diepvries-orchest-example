{
 "cells": [
  {
   "cell_type": "code",
   "execution_count": 1,
   "metadata": {},
   "outputs": [
    {
     "name": "stderr",
     "output_type": "stream",
     "text": [
      "/opt/conda/lib/python3.7/site-packages/snowflake/connector/options.py:97: UserWarning: You have an incompatible version of 'pyarrow' installed (4.0.0), please install a version that adheres to: 'pyarrow<5.1.0,>=5.0.0; extra == \"pandas\"'\n",
      "  _expected_pyarrow_version,\n"
     ]
    }
   ],
   "source": [
    "import os\n",
    "\n",
    "import snowflake.connector"
   ]
  },
  {
   "cell_type": "code",
   "execution_count": 3,
   "metadata": {},
   "outputs": [],
   "source": [
    "con = snowflake.connector.connect(\n",
    "    user=os.environ.get(\"SNOWFLAKE_USER\"),\n",
    "    password=os.environ.get(\"SNOWFLAKE_PASSWORD\"),\n",
    "    account=os.environ.get(\"SNOWFLAKE_ACCOUNT\"),\n",
    "    warehouse=os.environ.get(\"SNOWFLAKE_WAREHOUSE\"),\n",
    ")"
   ]
  },
  {
   "cell_type": "code",
   "execution_count": 4,
   "metadata": {
    "tags": []
   },
   "outputs": [
    {
     "name": "stdout",
     "output_type": "stream",
     "text": [
      "Database doesn't exist yet. Creating...\n"
     ]
    }
   ],
   "source": [
    "db_exists = False\n",
    "\n",
    "try:\n",
    "    con.cursor().execute(\"USE DATABASE diepvries_tutorial\")\n",
    "    db_exists = True\n",
    "except Exception:\n",
    "    print(\"Database doesn't exist yet. Creating...\")"
   ]
  },
  {
   "cell_type": "code",
   "execution_count": 5,
   "metadata": {},
   "outputs": [],
   "source": [
    "queries = [\n",
    "    \"\"\"CREATE DATABASE diepvries_tutorial;\"\"\",\n",
    "    \"\"\"USE DATABASE diepvries_tutorial;\"\"\",\n",
    "    \"\"\"CREATE SCHEMA dv;\"\"\",\n",
    "    \"\"\"CREATE SCHEMA dv_extract;\"\"\",\n",
    "    \"\"\"CREATE SCHEMA dv_staging;\"\"\",\n",
    "    \"\"\"CREATE TABLE IF NOT EXISTS dv.h_customer (\n",
    "  h_customer_hashkey VARCHAR(32) NOT NULL UNIQUE COMMENT 'Record hashkey',\n",
    "  r_timestamp        TIMESTAMP   NOT NULL COMMENT 'Record timestamp',\n",
    "  r_source           VARCHAR     NOT NULL COMMENT 'Record source',\n",
    "  customer_id        VARCHAR     NOT NULL COMMENT 'Customer business ID',\n",
    "  PRIMARY KEY (h_customer_hashkey)\n",
    ");\"\"\",\n",
    "    \"\"\"CREATE TABLE IF NOT EXISTS dv.hs_customer (\n",
    "  h_customer_hashkey VARCHAR(32) NOT NULL REFERENCES dv.h_customer (h_customer_hashkey) COMMENT 'Record hashkey',\n",
    "  s_hashdiff         VARCHAR(32) NOT NULL COMMENT 'Record hashdiff',\n",
    "  r_timestamp        TIMESTAMP   NOT NULL COMMENT 'Record start timestamp',\n",
    "  r_timestamp_end    TIMESTAMP   NOT NULL COMMENT 'Record end timestamp',\n",
    "  r_source           VARCHAR     NOT NULL COMMENT 'Record source',\n",
    "  firstname          VARCHAR COMMENT 'Customer first name',\n",
    "  lastname           VARCHAR COMMENT 'Customer last name',\n",
    "  PRIMARY KEY (h_customer_hashkey, r_timestamp)\n",
    ");\"\"\",\n",
    "    \"\"\"CREATE TABLE IF NOT EXISTS dv.h_order (\n",
    "  h_order_hashkey VARCHAR(32) NOT NULL UNIQUE COMMENT 'Record hashkey',\n",
    "  r_timestamp     TIMESTAMP   NOT NULL COMMENT 'Record timestamp',\n",
    "  r_source        VARCHAR     NOT NULL COMMENT 'Record source',\n",
    "  order_id        VARCHAR     NOT NULL COMMENT 'Order business ID',\n",
    "  PRIMARY KEY (h_order_hashkey)\n",
    ");\"\"\",\n",
    "    \"\"\"CREATE TABLE IF NOT EXISTS dv.hs_order (\n",
    "  h_order_hashkey VARCHAR(32) NOT NULL REFERENCES dv.h_order (h_order_hashkey) COMMENT 'Record hashkey',\n",
    "  s_hashdiff      VARCHAR(32) NOT NULL COMMENT 'Record hashdiff',\n",
    "  r_timestamp     TIMESTAMP   NOT NULL COMMENT 'Record start timestamp',\n",
    "  r_timestamp_end TIMESTAMP   NOT NULL COMMENT 'Record end timestamp',\n",
    "  r_source        VARCHAR     NOT NULL COMMENT 'Record source',\n",
    "  create_ts       TIMESTAMP COMMENT 'Order creation timestamp',\n",
    "  quantity        INTEGER COMMENT 'Order quantity',\n",
    "  PRIMARY KEY (h_order_hashkey, r_timestamp)\n",
    ");\"\"\",\n",
    "    \"\"\"CREATE TABLE IF NOT EXISTS dv.l_order_customer (\n",
    "  l_order_customer_hashkey VARCHAR(32) NOT NULL COMMENT 'Record hashkey',\n",
    "  h_customer_hashkey       VARCHAR(32) NOT NULL REFERENCES dv.h_customer (h_customer_hashkey) COMMENT 'Customer hashkey',\n",
    "  h_order_hashkey          VARCHAR(32) NOT NULL REFERENCES dv.h_order (h_order_hashkey) COMMENT 'Order hashkey',\n",
    "  customer_id              VARCHAR     NOT NULL COMMENT 'Customer business ID',\n",
    "  order_id                 VARCHAR     NOT NULL COMMENT 'Order business ID',\n",
    "  r_timestamp              TIMESTAMP   NOT NULL COMMENT 'Record timestamp',\n",
    "  r_source                 VARCHAR     NOT NULL COMMENT 'Record source',\n",
    "  PRIMARY KEY (l_order_customer_hashkey)\n",
    ");\"\"\",\n",
    "    \"\"\"CREATE OR REPLACE TABLE dv_extract.order_customer (\n",
    "  customer_id VARCHAR,\n",
    "  firstname   VARCHAR,\n",
    "  lastname    VARCHAR,\n",
    "  order_id    VARCHAR,\n",
    "  create_ts   VARCHAR,\n",
    "  quantity    VARCHAR\n",
    ");\"\"\",\n",
    "    \"\"\"INSERT INTO dv_extract.order_customer\n",
    "VALUES\n",
    "  ('1', 'Alice', 'Doe', '1', '2021-03-17T14:00:00+00:00', '2'),\n",
    "  ('1', 'Alice', 'Doe', '2', '2021-03-17T15:00:00+00:00', '3'),\n",
    "  ('1', 'Alice', 'Doe', '3', '2021-03-17T16:00:00+00:00', '2'),\n",
    "  ('2', 'Bob', 'Smith', '4', '2021-03-17T17:00:00+00:00', '8'),\n",
    "  (NULL, 'Charlie', NULL, '4', '2021-03-17T18:00:00+00:00', '8');\n",
    "\"\"\",\n",
    "]"
   ]
  },
  {
   "cell_type": "code",
   "execution_count": 6,
   "metadata": {},
   "outputs": [
    {
     "name": "stdout",
     "output_type": "stream",
     "text": [
      "CREATE DATABASE diepvries_tutorial;\n",
      "USE DATABASE diepvries_tutorial;\n",
      "CREATE SCHEMA dv;\n",
      "CREATE SCHEMA dv_extract;\n",
      "CREATE SCHEMA dv_staging;\n",
      "CREATE TABLE IF NOT EXISTS dv.h_customer (\n",
      "  h_customer_hashkey VARCHAR(32) NOT NULL UNIQUE COMMENT 'Record hashkey',\n",
      "  r_timestamp        TIMESTAMP   NOT NULL COMMENT 'Record timestamp',\n",
      "  r_source           VARCHAR     NOT NULL COMMENT 'Record source',\n",
      "  customer_id        VARCHAR     NOT NULL COMMENT 'Customer business ID',\n",
      "  PRIMARY KEY (h_customer_hashkey)\n",
      ");\n",
      "CREATE TABLE IF NOT EXISTS dv.hs_customer (\n",
      "  h_customer_hashkey VARCHAR(32) NOT NULL REFERENCES dv.h_customer (h_customer_hashkey) COMMENT 'Record hashkey',\n",
      "  s_hashdiff         VARCHAR(32) NOT NULL COMMENT 'Record hashdiff',\n",
      "  r_timestamp        TIMESTAMP   NOT NULL COMMENT 'Record start timestamp',\n",
      "  r_timestamp_end    TIMESTAMP   NOT NULL COMMENT 'Record end timestamp',\n",
      "  r_source           VARCHAR     NOT NULL COMMENT 'Record source',\n",
      "  firstname          VARCHAR COMMENT 'Customer first name',\n",
      "  lastname           VARCHAR COMMENT 'Customer last name',\n",
      "  PRIMARY KEY (h_customer_hashkey, r_timestamp)\n",
      ");\n",
      "CREATE TABLE IF NOT EXISTS dv.h_order (\n",
      "  h_order_hashkey VARCHAR(32) NOT NULL UNIQUE COMMENT 'Record hashkey',\n",
      "  r_timestamp     TIMESTAMP   NOT NULL COMMENT 'Record timestamp',\n",
      "  r_source        VARCHAR     NOT NULL COMMENT 'Record source',\n",
      "  order_id        VARCHAR     NOT NULL COMMENT 'Order business ID',\n",
      "  PRIMARY KEY (h_order_hashkey)\n",
      ");\n",
      "CREATE TABLE IF NOT EXISTS dv.hs_order (\n",
      "  h_order_hashkey VARCHAR(32) NOT NULL REFERENCES dv.h_order (h_order_hashkey) COMMENT 'Record hashkey',\n",
      "  s_hashdiff      VARCHAR(32) NOT NULL COMMENT 'Record hashdiff',\n",
      "  r_timestamp     TIMESTAMP   NOT NULL COMMENT 'Record start timestamp',\n",
      "  r_timestamp_end TIMESTAMP   NOT NULL COMMENT 'Record end timestamp',\n",
      "  r_source        VARCHAR     NOT NULL COMMENT 'Record source',\n",
      "  create_ts       TIMESTAMP COMMENT 'Order creation timestamp',\n",
      "  quantity        INTEGER COMMENT 'Order quantity',\n",
      "  PRIMARY KEY (h_order_hashkey, r_timestamp)\n",
      ");\n",
      "CREATE TABLE IF NOT EXISTS dv.l_order_customer (\n",
      "  l_order_customer_hashkey VARCHAR(32) NOT NULL COMMENT 'Record hashkey',\n",
      "  h_customer_hashkey       VARCHAR(32) NOT NULL REFERENCES dv.h_customer (h_customer_hashkey) COMMENT 'Customer hashkey',\n",
      "  h_order_hashkey          VARCHAR(32) NOT NULL REFERENCES dv.h_order (h_order_hashkey) COMMENT 'Order hashkey',\n",
      "  customer_id              VARCHAR     NOT NULL COMMENT 'Customer business ID',\n",
      "  order_id                 VARCHAR     NOT NULL COMMENT 'Order business ID',\n",
      "  r_timestamp              TIMESTAMP   NOT NULL COMMENT 'Record timestamp',\n",
      "  r_source                 VARCHAR     NOT NULL COMMENT 'Record source',\n",
      "  PRIMARY KEY (l_order_customer_hashkey)\n",
      ");\n",
      "CREATE OR REPLACE TABLE dv_extract.order_customer (\n",
      "  customer_id VARCHAR,\n",
      "  firstname   VARCHAR,\n",
      "  lastname    VARCHAR,\n",
      "  order_id    VARCHAR,\n",
      "  create_ts   VARCHAR,\n",
      "  quantity    VARCHAR\n",
      ");\n",
      "INSERT INTO dv_extract.order_customer\n",
      "VALUES\n",
      "  ('1', 'Alice', 'Doe', '1', '2021-03-17T14:00:00+00:00', '2'),\n",
      "  ('1', 'Alice', 'Doe', '2', '2021-03-17T15:00:00+00:00', '3'),\n",
      "  ('1', 'Alice', 'Doe', '3', '2021-03-17T16:00:00+00:00', '2'),\n",
      "  ('2', 'Bob', 'Smith', '4', '2021-03-17T17:00:00+00:00', '8'),\n",
      "  (NULL, 'Charlie', NULL, '4', '2021-03-17T18:00:00+00:00', '8');\n",
      "\n"
     ]
    }
   ],
   "source": [
    "if not db_exists:\n",
    "    for query in queries:\n",
    "        print(query)\n",
    "        con.cursor().execute(query)"
   ]
  },
  {
   "cell_type": "code",
   "execution_count": null,
   "metadata": {},
   "outputs": [],
   "source": []
  }
 ],
 "metadata": {
  "kernelspec": {
   "display_name": "Python 3",
   "language": "python",
   "name": "orchest-kernel-7c4ad9c1-1b3f-48e9-a4b5-0274b978862b"
  },
  "language_info": {
   "codemirror_mode": {
    "name": "ipython",
    "version": 3
   },
   "file_extension": ".py",
   "mimetype": "text/x-python",
   "name": "python",
   "nbconvert_exporter": "python",
   "pygments_lexer": "ipython3",
   "version": "3.8.10"
  }
 },
 "nbformat": 4,
 "nbformat_minor": 4
}
